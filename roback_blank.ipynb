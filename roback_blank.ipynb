{
 "cells": [
  {
   "cell_type": "markdown",
   "id": "6b2dd35c",
   "metadata": {},
   "source": [
    "# Problem Set 3 Computational Problem: Plotting\n",
    "Roback\n",
    "Urban Economics, JHU, Spring 2024\n",
    "\n",
    "In this problem, we will use Python to graphically display the canonical Roback graphs.\n",
    "\n",
    "## Setup\n",
    "\n",
    "For this problem, you should turn in one file of Python code. You have two choices for how to submit your answers to the questions in that file:\n",
    "1. Embedded in the Python code by using the `print()` function\n",
    "2. In comments of the program file.\n",
    "\n",
    "For these problems, you should use the utility and cost functions from Brueckner’s problem 11.1. You can normalize consumers’ level of utility to 1 and the price of the export good to 1.\n",
    "\n",
    "## Question I: Deriving Curves\n",
    "1. Derive the curve mathematically (use your answers from Brueckner 11.1!)\n",
    "    a. Write down the equation describing residents’ indifference curve (e.g., p as a function of y, a).\n",
    "    b. Write down the equation describing firms’ isoprofit curve (e.g., p as a function of y, a, and θ).\n",
    "2. Make a function:\n",
    "    a. Called `p_resident_func` that takes y and a as inputs, and returns p\n",
    "    b. Called `p_firm_func` that takes y, a, and theta as inputs, and returns p\n",
    "\n",
    "## Question II: Indifference Points\n",
    "1. Using the functions you generated\n",
    "    a. Compute the land price at which an individual would obtain a utility of 1, if her income is 2 and there are 2 “units” of amenity.\n",
    "    b. Compute the land price at which a firm earns zero profits, if wages are 2, and amenities don’t impact production.\n",
    "2. Do the same calculation if wages (income) are 4.\n",
    "3. Do the same calculation if wages (income) are 1.26.\n",
    "\n",
    "## Question III: Plotting Equilibrium\n",
    "For theta equals -0.1, 0, and 0.1, plot firm and household indifference curves for a = 1 and a = 1.5.\n",
    "Each theta value should be on its own graph. Each of these should be labeled with the appropriate value of theta in the title. Also, each curve where a = 1 should be a solid line and each curve where a = 1.5 should be a dotted line.\n",
    "\n",
    "Plot the firm curve in blue and the household curve in red. All of your graphs should range from 1 to 4 on the x axis.\n",
    "\n",
    "To make this easier for you, here is the code necessary to do this for theta = 0.1:\n",
    "\n",
    "```python\n",
    "import numpy as np\n",
    "import matplotlib.pyplot as plt\n",
    "\n",
    "theta = 0.1\n",
    "a = 1\n",
    "y = np.arange(1, 4.01, 0.01)\n",
    "plt.plot(y, p_firm_func(y, a, theta), color='blue', label='Firm, a=1')\n",
    "plt.plot(y, p_resident_func(y, a), color='red', label='Resident, a=1')\n",
    "\n",
    "a = 1.5\n",
    "plt.plot(y, p_firm_func(y, a, theta), color='blue', linestyle='dotted', label='Firm, a=1.5')\n",
    "plt.plot(y, p_resident_func(y, a), color='red', linestyle='dotted', label='Resident, a=1.5')\n",
    "\n",
    "plt.title('theta = 0.1')\n",
    "plt.xlabel('y')\n",
    "plt.ylabel('p')\n",
    "plt.legend()\n",
    "plt.show()\n",
    "```\n",
    "\n",
    "To sum up, in your code you should have three plots, each of which should have 4 curves on it: firm and household curves for a = 1 and firm and household curves for a = 1.5.\n",
    "\n",
    "## Question IV: Interpretation\n",
    "For each of the cases graphed above, state whether equilibrium land prices and wages increase or decrease after a change in amenities from 1 to 1.5. Please explain your answers by reference to Brueckner chapter 11.2."
   ]
  },
  {
   "cell_type": "markdown",
   "id": "8b67a00c",
   "metadata": {},
   "source": [
    "# Solution Question I.1\n",
    "\n",
    "**Resident indifference curve:**\n",
    "[your answer here]\n",
    "\n",
    "**Firm isoprofit curve:**\n",
    "[your answer here]"
   ]
  },
  {
   "cell_type": "markdown",
   "id": "a65f94da",
   "metadata": {},
   "source": [
    "# Question I: Deriving Curves\n",
    "2. Make a function: \n",
    "    a. Called `p_resident_func` that takes y and a as inputs, and returns p. \n",
    "    b. Called `p_firm_func` that takes y, a, and theta as inputs, and returns p."
   ]
  },
  {
   "cell_type": "code",
   "execution_count": null,
   "id": "b3086e7f",
   "metadata": {},
   "outputs": [],
   "source": [
    "# Question I.2: Deriving Curves\n",
    "\n",
    "# Residents’ indifference curve\n",
    "#your code here\n",
    "\n",
    "# Firms’ isoprofit curve\n",
    "#your code here"
   ]
  },
  {
   "cell_type": "markdown",
   "id": "7b19c54d",
   "metadata": {},
   "source": [
    "## Question II: Indifference Points\n",
    "1. Using the functions you generated\n",
    "    a. Compute the land price at which an individual would obtain a utility of 1, if her income is 2 and there are 2 “units” of amenity.\n",
    "    b. Compute the land price at which a firm earns zero profits, if wages are 2, and amenities don’t impact production.\n",
    "2. Do the same calculation if wages (income) are 4.\n",
    "3. Do the same calculation if wages (income) are 1.26."
   ]
  },
  {
   "cell_type": "code",
   "execution_count": null,
   "id": "00295ca6",
   "metadata": {},
   "outputs": [],
   "source": [
    "# Question II: Indifference Points\n",
    "# Set a and theta\n",
    "#your code here\n",
    "\n",
    "# compute land price for y=2 for individual utility = 1 and profits = 0\n",
    "#your code here\n",
    "\n",
    "# compute land price for y=4 for individual utility = 1 and profits = 0\n",
    "#your code here\n",
    "\n",
    "# compute land price for y=1.26 for individual utility = 1 and profits = 0\n",
    "#your code here"
   ]
  },
  {
   "cell_type": "markdown",
   "id": "3c420d82",
   "metadata": {},
   "source": [
    "## Question III: Plotting Equilibrium\n",
    "For theta equals -0.1, 0, and 0.1, plot firm and household indifference curves for a = 1 and a = 1.5.\n",
    "Each theta value should be on its own graph. Each of these should be labeled with the appropriate value of theta in the title. Also, each curve where a = 1 should be a solid line and each curve where a = 1.5 should be a dotted line.\n",
    "\n",
    "Plot the firm curve in blue and the household curve in red. All of your graphs should range from 1 to 4 on the x axis."
   ]
  },
  {
   "cell_type": "code",
   "execution_count": null,
   "id": "c304adf0",
   "metadata": {},
   "outputs": [],
   "source": [
    "# Question III: Plotting Equilibrium\n",
    "# import necessary libraries\n",
    "#your code here\n",
    "\n",
    "# set parameters and range for a\n",
    "#your code here\n",
    "\n",
    "# Plotting the curves for different values of theta and a\n",
    "#your code"
   ]
  },
  {
   "cell_type": "markdown",
   "id": "533fcfd5",
   "metadata": {},
   "source": [
    "# Question IV: Interpretation\n",
    "For each of the cases graphed above, state whether equilibrium land prices and wages increase or decrease after a change in amenities from 1 to 1.5. Please explain your answers by reference to Brueckner chapter 11.2.?\n",
    "\n",
    "[your answer here]"
   ]
  }
 ],
 "metadata": {
  "kernelspec": {
   "display_name": "base",
   "language": "python",
   "name": "python3"
  },
  "language_info": {
   "codemirror_mode": {
    "name": "ipython",
    "version": 3
   },
   "file_extension": ".py",
   "mimetype": "text/x-python",
   "name": "python",
   "nbconvert_exporter": "python",
   "pygments_lexer": "ipython3",
   "version": "3.12.7"
  }
 },
 "nbformat": 4,
 "nbformat_minor": 5
}
